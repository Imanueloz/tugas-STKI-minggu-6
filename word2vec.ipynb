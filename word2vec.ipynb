{
 "cells": [
  {
   "cell_type": "code",
   "execution_count": null,
   "metadata": {},
   "outputs": [],
   "source": [
    "import numpy as np\n",
    "np.random.seed(42)\n",
    "v_revenge = np.array([0,0,1,0,0,0])\n",
    "print(v_revenge)\n",
    "\n",
    "weight = np.random.random_sample((6,3))\n",
    "print(weight)\n",
    "\n",
    "hidden_layer_sg = np.dot(v_revenge, weight)\n",
    "print(hidden_layer_sg)\n",
    "\n",
    "weight_prime = np.random.random_sample((3,6))\n",
    "print(weight_prime)\n",
    "\n",
    "o_the = np.dot(hidden_layer_sg, weight_prime)\n",
    "print(o_the)s"
   ]
  },
  {
   "cell_type": "code",
   "execution_count": null,
   "metadata": {},
   "outputs": [],
   "source": [
    "v_the = np.array([0,0,1,0,0,0])\n",
    "print(v_the)\n",
    "\n",
    "hidden_layer_cbow = np.dot(v_the, weight)\n",
    "print(hidden_layer_cbow)\n",
    "\n",
    "o_revenge = np.dot(hidden_layer_cbow, weight_prime)\n",
    "print(o_revenge)"
   ]
  }
 ],
 "metadata": {
  "kernelspec": {
   "display_name": "Python 3",
   "language": "python",
   "name": "python3"
  },
  "language_info": {
   "name": "python",
   "version": "3.10.1"
  }
 },
 "nbformat": 4,
 "nbformat_minor": 2
}
